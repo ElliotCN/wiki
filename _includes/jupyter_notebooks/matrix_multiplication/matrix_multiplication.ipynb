{
 "cells": [
  {
   "cell_type": "code",
   "execution_count": 1,
   "metadata": {},
   "outputs": [],
   "source": [
    "import numpy as np"
   ]
  },
  {
   "cell_type": "markdown",
   "metadata": {},
   "source": [
    "# Scalar operations"
   ]
  },
  {
   "cell_type": "markdown",
   "metadata": {},
   "source": [
    "This is simply done with the multiplication operator (`*`) in Python, where one of the objects is a scalar and the other is a Numpy array.\n",
    "\n",
    "This is notated for a scalar $s$ and a matrix $A$ as:\n",
    "\n",
    "$$C = sA$$\n",
    "\n",
    "Scalar multiplication is commutative:\n",
    "\n",
    "$$C = sA = As$$\n",
    "\n",
    "Create example arrays:"
   ]
  },
  {
   "cell_type": "code",
   "execution_count": 2,
   "metadata": {},
   "outputs": [
    {
     "name": "stdout",
     "output_type": "stream",
     "text": [
      "a = \n",
      "[6 5 8]\n",
      "\n",
      "b = \n",
      "[[5 4 0 3]\n",
      " [7 8 2 7]]\n",
      "\n"
     ]
    }
   ],
   "source": [
    "a = np.random.randint(0,9,(3))\n",
    "b = np.random.randint(0,9,(2,4))\n",
    "\n",
    "print('a = \\n{}\\n'.format(a))\n",
    "print('b = \\n{}\\n'.format(b))"
   ]
  },
  {
   "cell_type": "markdown",
   "metadata": {},
   "source": [
    "Multiplication of each element in an array of any dimension is simply performed with the mulitplication symbol `*`:"
   ]
  },
  {
   "cell_type": "code",
   "execution_count": 3,
   "metadata": {},
   "outputs": [
    {
     "name": "stdout",
     "output_type": "stream",
     "text": [
      "r_1 = \n",
      "[12 10 16]\n",
      "\n",
      "r_2 = \n",
      "[[10  8  0  6]\n",
      " [14 16  4 14]]\n",
      "\n"
     ]
    }
   ],
   "source": [
    "s = 2\n",
    "r_1 = s * a\n",
    "r_2 = s * b\n",
    "\n",
    "print('r_1 = \\n{}\\n'.format(r_1))\n",
    "print('r_2 = \\n{}\\n'.format(r_2))"
   ]
  },
  {
   "cell_type": "markdown",
   "metadata": {},
   "source": [
    "# Operations on 1D arrays"
   ]
  },
  {
   "cell_type": "markdown",
   "metadata": {
    "collapsed": true
   },
   "source": [
    "Create example arrays:"
   ]
  },
  {
   "cell_type": "code",
   "execution_count": 4,
   "metadata": {},
   "outputs": [
    {
     "name": "stdout",
     "output_type": "stream",
     "text": [
      "a = \n",
      "[3 3 3 3]\n",
      "\n",
      "b = \n",
      "[3 2 6 6]\n",
      "\n"
     ]
    }
   ],
   "source": [
    "a = np.random.randint(0,9,(4))\n",
    "b = np.random.randint(0,9,(4))\n",
    "\n",
    "print('a = \\n{}\\n'.format(a))\n",
    "print('b = \\n{}\\n'.format(b))"
   ]
  },
  {
   "cell_type": "markdown",
   "metadata": {},
   "source": [
    "## Inner product of two vectors"
   ]
  },
  {
   "cell_type": "markdown",
   "metadata": {},
   "source": [
    "For two vectors $\\boldsymbol{a}$ and $\\boldsymbol{b}$, the inner (dot) product is the sum of the product of components. It is written as:\n",
    "\n",
    "$$c = \\sum_{i}a_ib_i$$\n",
    "\n",
    "In matrix notation, this is written as:\n",
    "\n",
    "$$c =\n",
    "\\begin{pmatrix}a_1, a_2, ..., a_n\\end{pmatrix}\n",
    "\\begin{pmatrix}b_1\\\\b_2\\\\...\\\\b_n\\end{pmatrix}\n",
    "$$"
   ]
  },
  {
   "cell_type": "markdown",
   "metadata": {
    "collapsed": true
   },
   "source": [
    "**Method 1: `for` loop**"
   ]
  },
  {
   "cell_type": "code",
   "execution_count": 5,
   "metadata": {
    "code_folding": []
   },
   "outputs": [
    {
     "data": {
      "text/plain": [
       "51"
      ]
     },
     "execution_count": 5,
     "metadata": {},
     "output_type": "execute_result"
    }
   ],
   "source": [
    "def inner_prod(a, b):\n",
    "    \n",
    "    total = 0\n",
    "    for i in range(len(a)):\n",
    "        total += a[i] * b[i]\n",
    "    \n",
    "    return total\n",
    "\n",
    "inner_prod(a,b)"
   ]
  },
  {
   "cell_type": "markdown",
   "metadata": {},
   "source": [
    "**Method 2: `np.dot()`**"
   ]
  },
  {
   "cell_type": "code",
   "execution_count": 6,
   "metadata": {},
   "outputs": [
    {
     "data": {
      "text/plain": [
       "51"
      ]
     },
     "execution_count": 6,
     "metadata": {},
     "output_type": "execute_result"
    }
   ],
   "source": [
    "np.dot(a,b)"
   ]
  },
  {
   "cell_type": "markdown",
   "metadata": {},
   "source": [
    "**Method 3: `np.einsum()`**"
   ]
  },
  {
   "cell_type": "code",
   "execution_count": 7,
   "metadata": {},
   "outputs": [
    {
     "data": {
      "text/plain": [
       "51"
      ]
     },
     "execution_count": 7,
     "metadata": {},
     "output_type": "execute_result"
    }
   ],
   "source": [
    "np.einsum('i,i',a,b)"
   ]
  },
  {
   "cell_type": "markdown",
   "metadata": {},
   "source": [
    "## Outer product of two vectors"
   ]
  },
  {
   "cell_type": "markdown",
   "metadata": {},
   "source": [
    "For two vectors $\\boldsymbol{a}$ and $\\boldsymbol{b}$, the outer product is written in matrix notation as:\n",
    "\n",
    "$$C = \n",
    "\\begin{pmatrix}a_1\\\\a_2\\\\\\vdots\\\\a_n\\end{pmatrix}\n",
    "\\begin{pmatrix}b_1, b_2, \\ldots, b_n\\end{pmatrix} =\n",
    "\\begin{pmatrix}\n",
    "a_1b_1 & a_1b_2 & \\ldots  &  a_1b_n \\\\\n",
    "a_2b_1 & \\ldots & \\ldots & \\ldots             \\\\\n",
    "\\ldots & \\ldots & \\ldots & \\ldots \\\\\n",
    "a_nb_1 & \\ldots & \\ldots & a_nb_n\n",
    "\\end{pmatrix}\n",
    "$$"
   ]
  },
  {
   "cell_type": "markdown",
   "metadata": {
    "collapsed": true
   },
   "source": [
    "**Method 1: `for` loops**"
   ]
  },
  {
   "cell_type": "code",
   "execution_count": 8,
   "metadata": {
    "code_folding": [
     0
    ]
   },
   "outputs": [
    {
     "data": {
      "text/plain": [
       "array([[ 9,  6, 18, 18],\n",
       "       [ 9,  6, 18, 18],\n",
       "       [ 9,  6, 18, 18],\n",
       "       [ 9,  6, 18, 18]])"
      ]
     },
     "execution_count": 8,
     "metadata": {},
     "output_type": "execute_result"
    }
   ],
   "source": [
    "def outer_prod(a,b):\n",
    "    c = np.empty((len(a), len(b)), dtype=a.dtype)\n",
    "    \n",
    "    for i in range(len(a)):\n",
    "        for j in range(len(b)):\n",
    "            c[i,j] = a[i] * b[j]\n",
    "            \n",
    "    return c\n",
    "\n",
    "outer_prod(a,b)"
   ]
  },
  {
   "cell_type": "markdown",
   "metadata": {},
   "source": [
    "**Method 2: `np.outer()`**"
   ]
  },
  {
   "cell_type": "code",
   "execution_count": 9,
   "metadata": {
    "scrolled": false
   },
   "outputs": [
    {
     "data": {
      "text/plain": [
       "array([[ 9,  6, 18, 18],\n",
       "       [ 9,  6, 18, 18],\n",
       "       [ 9,  6, 18, 18],\n",
       "       [ 9,  6, 18, 18]])"
      ]
     },
     "execution_count": 9,
     "metadata": {},
     "output_type": "execute_result"
    }
   ],
   "source": [
    "np.outer(a,b)"
   ]
  },
  {
   "cell_type": "markdown",
   "metadata": {},
   "source": [
    "**Method 3: `np.einsum()`**"
   ]
  },
  {
   "cell_type": "code",
   "execution_count": 10,
   "metadata": {},
   "outputs": [
    {
     "data": {
      "text/plain": [
       "array([[ 9,  6, 18, 18],\n",
       "       [ 9,  6, 18, 18],\n",
       "       [ 9,  6, 18, 18],\n",
       "       [ 9,  6, 18, 18]])"
      ]
     },
     "execution_count": 10,
     "metadata": {},
     "output_type": "execute_result"
    }
   ],
   "source": [
    "np.einsum('i,j->ij', a, b)"
   ]
  },
  {
   "cell_type": "markdown",
   "metadata": {},
   "source": [
    "## Cross product of two vectors"
   ]
  },
  {
   "cell_type": "markdown",
   "metadata": {
    "collapsed": true
   },
   "source": [
    "Cross product is defined for 2 and 3-dimensional vectors. Create example arrays:"
   ]
  },
  {
   "cell_type": "code",
   "execution_count": 11,
   "metadata": {},
   "outputs": [
    {
     "name": "stdout",
     "output_type": "stream",
     "text": [
      "a = \n",
      "[6 0 6]\n",
      "\n",
      "b = \n",
      "[0 4 0]\n",
      "\n"
     ]
    }
   ],
   "source": [
    "a = np.random.randint(0,9,(3))\n",
    "b = np.random.randint(0,9,(3))\n",
    "\n",
    "print('a = \\n{}\\n'.format(a))\n",
    "print('b = \\n{}\\n'.format(b))"
   ]
  },
  {
   "cell_type": "code",
   "execution_count": 12,
   "metadata": {},
   "outputs": [
    {
     "data": {
      "text/plain": [
       "array([-24,   0,  24])"
      ]
     },
     "execution_count": 12,
     "metadata": {},
     "output_type": "execute_result"
    }
   ],
   "source": [
    "np.cross(a,b)"
   ]
  },
  {
   "cell_type": "markdown",
   "metadata": {},
   "source": [
    "# Operations on 2D arrays"
   ]
  },
  {
   "cell_type": "markdown",
   "metadata": {},
   "source": [
    "Create example arrays:"
   ]
  },
  {
   "cell_type": "code",
   "execution_count": 13,
   "metadata": {},
   "outputs": [
    {
     "name": "stdout",
     "output_type": "stream",
     "text": [
      "a = \n",
      "[[3 2 1]]\n",
      "\n",
      "b = \n",
      "[[3]\n",
      " [8]\n",
      " [5]]\n",
      "\n",
      "A = \n",
      "[[6 4 5]\n",
      " [8 6 4]\n",
      " [3 4 4]]\n",
      "\n",
      "B = \n",
      "[[8 2 5]\n",
      " [4 3 4]\n",
      " [0 4 0]]\n",
      "\n"
     ]
    }
   ],
   "source": [
    "a = np.random.randint(0,9,(1,3))    # row vector\n",
    "b = np.random.randint(0,9,(3,1))    # col vector\n",
    "A = np.random.randint(0,9,(3,3))\n",
    "B = np.random.randint(0,9,(3,3))\n",
    "\n",
    "print('a = \\n{}\\n'.format(a))\n",
    "print('b = \\n{}\\n'.format(b))\n",
    "print('A = \\n{}\\n'.format(A))\n",
    "print('B = \\n{}\\n'.format(B))"
   ]
  },
  {
   "cell_type": "markdown",
   "metadata": {},
   "source": [
    "## Matrix product"
   ]
  },
  {
   "cell_type": "markdown",
   "metadata": {},
   "source": [
    "Define a function using to compute the matrix product of two 2D arrays using nested for loops:"
   ]
  },
  {
   "cell_type": "code",
   "execution_count": 14,
   "metadata": {
    "code_folding": []
   },
   "outputs": [],
   "source": [
    "def mat_mult(a,b):\n",
    "    \n",
    "    # output array has same number of rows as a and same number of columns as b\n",
    "    c = np.zeros((a.shape[0], b.shape[1]), dtype=a.dtype)\n",
    "    \n",
    "    for a_row in range(a.shape[0]):\n",
    "    \n",
    "        for b_col in range(b.shape[1]):\n",
    "\n",
    "            for a_col in range(a.shape[1]):\n",
    "\n",
    "                b_row = a_col                            \n",
    "                c[a_row, b_col] += (a[a_row, a_col] * b[b_row, b_col])            \n",
    "    \n",
    "    return c"
   ]
  },
  {
   "cell_type": "markdown",
   "metadata": {},
   "source": [
    "### Inner product of two vectors"
   ]
  },
  {
   "cell_type": "markdown",
   "metadata": {},
   "source": [
    "**Method 1: `for` loops**"
   ]
  },
  {
   "cell_type": "code",
   "execution_count": 15,
   "metadata": {
    "scrolled": true
   },
   "outputs": [
    {
     "data": {
      "text/plain": [
       "array([[30]])"
      ]
     },
     "execution_count": 15,
     "metadata": {},
     "output_type": "execute_result"
    }
   ],
   "source": [
    "mat_mult(a,b)"
   ]
  },
  {
   "cell_type": "markdown",
   "metadata": {},
   "source": [
    "**Method 2: `np.dot()`**"
   ]
  },
  {
   "cell_type": "code",
   "execution_count": 16,
   "metadata": {},
   "outputs": [
    {
     "data": {
      "text/plain": [
       "array([[30]])"
      ]
     },
     "execution_count": 16,
     "metadata": {},
     "output_type": "execute_result"
    }
   ],
   "source": [
    "np.dot(a,b)"
   ]
  },
  {
   "cell_type": "markdown",
   "metadata": {},
   "source": [
    "**Method 3: `np.einsum()`**"
   ]
  },
  {
   "cell_type": "code",
   "execution_count": 17,
   "metadata": {},
   "outputs": [
    {
     "data": {
      "text/plain": [
       "array([[30]])"
      ]
     },
     "execution_count": 17,
     "metadata": {},
     "output_type": "execute_result"
    }
   ],
   "source": [
    "np.einsum('ij,jk',a,b)"
   ]
  },
  {
   "cell_type": "markdown",
   "metadata": {},
   "source": [
    "**Method 4: `np.matmul()` - `@`**"
   ]
  },
  {
   "cell_type": "code",
   "execution_count": 18,
   "metadata": {},
   "outputs": [
    {
     "data": {
      "text/plain": [
       "array([[30]])"
      ]
     },
     "execution_count": 18,
     "metadata": {},
     "output_type": "execute_result"
    }
   ],
   "source": [
    "a @ b"
   ]
  },
  {
   "cell_type": "markdown",
   "metadata": {},
   "source": [
    "### Outer product of two vectors"
   ]
  },
  {
   "cell_type": "markdown",
   "metadata": {},
   "source": [
    "**Method 1: `for` loops**"
   ]
  },
  {
   "cell_type": "code",
   "execution_count": 19,
   "metadata": {
    "scrolled": true
   },
   "outputs": [
    {
     "data": {
      "text/plain": [
       "array([[ 9, 24, 15],\n",
       "       [ 6, 16, 10],\n",
       "       [ 3,  8,  5]])"
      ]
     },
     "execution_count": 19,
     "metadata": {},
     "output_type": "execute_result"
    }
   ],
   "source": [
    "mat_mult(a.T,b.T)"
   ]
  },
  {
   "cell_type": "markdown",
   "metadata": {},
   "source": [
    "**Method 2: `np.dot()` and `np.outer()`**"
   ]
  },
  {
   "cell_type": "code",
   "execution_count": 20,
   "metadata": {},
   "outputs": [
    {
     "data": {
      "text/plain": [
       "array([[ 9, 24, 15],\n",
       "       [ 6, 16, 10],\n",
       "       [ 3,  8,  5]])"
      ]
     },
     "execution_count": 20,
     "metadata": {},
     "output_type": "execute_result"
    }
   ],
   "source": [
    "np.dot(a.T,b.T)"
   ]
  },
  {
   "cell_type": "code",
   "execution_count": 21,
   "metadata": {},
   "outputs": [
    {
     "data": {
      "text/plain": [
       "array([[ 9, 24, 15],\n",
       "       [ 6, 16, 10],\n",
       "       [ 3,  8,  5]])"
      ]
     },
     "execution_count": 21,
     "metadata": {},
     "output_type": "execute_result"
    }
   ],
   "source": [
    "np.outer(a,b)"
   ]
  },
  {
   "cell_type": "markdown",
   "metadata": {},
   "source": [
    "**Method 3: `np.einsum()`**"
   ]
  },
  {
   "cell_type": "code",
   "execution_count": 22,
   "metadata": {},
   "outputs": [
    {
     "data": {
      "text/plain": [
       "array([[ 9, 24, 15],\n",
       "       [ 6, 16, 10],\n",
       "       [ 3,  8,  5]])"
      ]
     },
     "execution_count": 22,
     "metadata": {},
     "output_type": "execute_result"
    }
   ],
   "source": [
    "np.einsum('ij,kl->jk',a,b)"
   ]
  },
  {
   "cell_type": "markdown",
   "metadata": {},
   "source": [
    "**Method 4: `np.matmul()` - `@`**"
   ]
  },
  {
   "cell_type": "code",
   "execution_count": 23,
   "metadata": {},
   "outputs": [
    {
     "data": {
      "text/plain": [
       "array([[ 9, 24, 15],\n",
       "       [ 6, 16, 10],\n",
       "       [ 3,  8,  5]])"
      ]
     },
     "execution_count": 23,
     "metadata": {},
     "output_type": "execute_result"
    }
   ],
   "source": [
    "a.T @ b.T"
   ]
  },
  {
   "cell_type": "markdown",
   "metadata": {
    "collapsed": true
   },
   "source": [
    "### Matrix product of two matrices"
   ]
  },
  {
   "cell_type": "markdown",
   "metadata": {},
   "source": [
    "**Method 1: `for` loops**"
   ]
  },
  {
   "cell_type": "code",
   "execution_count": 24,
   "metadata": {
    "scrolled": true
   },
   "outputs": [
    {
     "data": {
      "text/plain": [
       "array([[64, 44, 46],\n",
       "       [88, 50, 64],\n",
       "       [40, 34, 31]])"
      ]
     },
     "execution_count": 24,
     "metadata": {},
     "output_type": "execute_result"
    }
   ],
   "source": [
    "mat_mult(A,B)"
   ]
  },
  {
   "cell_type": "markdown",
   "metadata": {},
   "source": [
    "**Method 2: `np.dot()`**"
   ]
  },
  {
   "cell_type": "code",
   "execution_count": 25,
   "metadata": {},
   "outputs": [
    {
     "data": {
      "text/plain": [
       "array([[64, 44, 46],\n",
       "       [88, 50, 64],\n",
       "       [40, 34, 31]])"
      ]
     },
     "execution_count": 25,
     "metadata": {},
     "output_type": "execute_result"
    }
   ],
   "source": [
    "np.dot(A,B)"
   ]
  },
  {
   "cell_type": "markdown",
   "metadata": {},
   "source": [
    "**Method 3: `np.einsum()`**"
   ]
  },
  {
   "cell_type": "code",
   "execution_count": 26,
   "metadata": {},
   "outputs": [
    {
     "data": {
      "text/plain": [
       "array([[64, 44, 46],\n",
       "       [88, 50, 64],\n",
       "       [40, 34, 31]])"
      ]
     },
     "execution_count": 26,
     "metadata": {},
     "output_type": "execute_result"
    }
   ],
   "source": [
    "np.einsum('ij,jk->ik',A,B)"
   ]
  },
  {
   "cell_type": "markdown",
   "metadata": {},
   "source": [
    "**Method 4: `np.matmul()` - `@`**"
   ]
  },
  {
   "cell_type": "code",
   "execution_count": 27,
   "metadata": {},
   "outputs": [
    {
     "data": {
      "text/plain": [
       "array([[64, 44, 46],\n",
       "       [88, 50, 64],\n",
       "       [40, 34, 31]])"
      ]
     },
     "execution_count": 27,
     "metadata": {},
     "output_type": "execute_result"
    }
   ],
   "source": [
    "A @ B"
   ]
  },
  {
   "cell_type": "markdown",
   "metadata": {},
   "source": [
    "## Cross product of two vectors"
   ]
  },
  {
   "cell_type": "markdown",
   "metadata": {},
   "source": [
    "`np.cross()` accepts 1D vectors, or row vectors represented as `1 x 3` arrays, but not column vectors represented as `3 x 1` arrays by default. We can modify the axis defining the input and output vectors however, which allows us to operate on column vectors represented as `3 x 1` arrays:"
   ]
  },
  {
   "cell_type": "code",
   "execution_count": 28,
   "metadata": {},
   "outputs": [
    {
     "data": {
      "text/plain": [
       "array([[  2, -12,  18]])"
      ]
     },
     "execution_count": 28,
     "metadata": {},
     "output_type": "execute_result"
    }
   ],
   "source": [
    "np.cross(a, b, axisb=0)"
   ]
  },
  {
   "cell_type": "markdown",
   "metadata": {},
   "source": [
    "## Hadamard product"
   ]
  },
  {
   "cell_type": "code",
   "execution_count": 29,
   "metadata": {},
   "outputs": [
    {
     "data": {
      "text/plain": [
       "array([[48,  8, 25],\n",
       "       [32, 18, 16],\n",
       "       [ 0, 16,  0]])"
      ]
     },
     "execution_count": 29,
     "metadata": {},
     "output_type": "execute_result"
    }
   ],
   "source": [
    "A * B"
   ]
  },
  {
   "cell_type": "markdown",
   "metadata": {},
   "source": [
    "## Kronecker product"
   ]
  },
  {
   "cell_type": "markdown",
   "metadata": {},
   "source": [
    "The outer product on two vectors can be generalised to 2D matrices. For a matrix $A$ with shape `n x m` and a matrix $B$ with shape `p x q`, the Knocker product produces a matrix with shape `np x mq`, and is written as:\n",
    "\n",
    "$$\n",
    "A \\otimes B = \n",
    "\\begin{pmatrix}\n",
    "a_{11}B & \\ldots & a_{1m}B & \\\\\n",
    "\\vdots & \\ddots & \\vdots & \\\\\n",
    "a_{n1}B & \\ldots & a_{nm}B & \\\\\n",
    "\\end{pmatrix}\n",
    "$$\n",
    "\n",
    "Write a function using for loops to perform the Kronecker product:"
   ]
  },
  {
   "cell_type": "code",
   "execution_count": 30,
   "metadata": {
    "code_folding": []
   },
   "outputs": [],
   "source": [
    "def kron_prod(a, b):\n",
    "    \n",
    "    b_nrows = b.shape[0]\n",
    "    b_ncols = b.shape[1]\n",
    "    \n",
    "    c_shape = tuple([i*j for i, j in zip(a.shape, b.shape)])\n",
    "    \n",
    "    if a.dtype is b.dtype:\n",
    "        c_dtype = a.dtype\n",
    "    else:\n",
    "        c_dtype = float\n",
    "        \n",
    "    c = np.empty(c_shape, dtype=c_dtype)\n",
    "    \n",
    "    for i_idx, i in enumerate(a):\n",
    "        for j_idx, j in enumerate(i):\n",
    "            sub_arr = j * b\n",
    "            c[i_idx*b_nrows:(i_idx+1)*b_nrows, j_idx*b_ncols:(j_idx+1)*b_ncols] = sub_arr\n",
    "    \n",
    "    return c"
   ]
  },
  {
   "cell_type": "markdown",
   "metadata": {},
   "source": [
    "**Method 1: `for` loops**"
   ]
  },
  {
   "cell_type": "code",
   "execution_count": 31,
   "metadata": {},
   "outputs": [
    {
     "data": {
      "text/plain": [
       "array([[48, 12, 30, 32,  8, 20, 40, 10, 25],\n",
       "       [24, 18, 24, 16, 12, 16, 20, 15, 20],\n",
       "       [ 0, 24,  0,  0, 16,  0,  0, 20,  0],\n",
       "       [64, 16, 40, 48, 12, 30, 32,  8, 20],\n",
       "       [32, 24, 32, 24, 18, 24, 16, 12, 16],\n",
       "       [ 0, 32,  0,  0, 24,  0,  0, 16,  0],\n",
       "       [24,  6, 15, 32,  8, 20, 32,  8, 20],\n",
       "       [12,  9, 12, 16, 12, 16, 16, 12, 16],\n",
       "       [ 0, 12,  0,  0, 16,  0,  0, 16,  0]])"
      ]
     },
     "execution_count": 31,
     "metadata": {},
     "output_type": "execute_result"
    }
   ],
   "source": [
    "kron_prod(A,B)"
   ]
  },
  {
   "cell_type": "markdown",
   "metadata": {},
   "source": [
    "**Method 4: `np.kron()`**"
   ]
  },
  {
   "cell_type": "code",
   "execution_count": 32,
   "metadata": {},
   "outputs": [
    {
     "data": {
      "text/plain": [
       "array([[48, 12, 30, 32,  8, 20, 40, 10, 25],\n",
       "       [24, 18, 24, 16, 12, 16, 20, 15, 20],\n",
       "       [ 0, 24,  0,  0, 16,  0,  0, 20,  0],\n",
       "       [64, 16, 40, 48, 12, 30, 32,  8, 20],\n",
       "       [32, 24, 32, 24, 18, 24, 16, 12, 16],\n",
       "       [ 0, 32,  0,  0, 24,  0,  0, 16,  0],\n",
       "       [24,  6, 15, 32,  8, 20, 32,  8, 20],\n",
       "       [12,  9, 12, 16, 12, 16, 16, 12, 16],\n",
       "       [ 0, 12,  0,  0, 16,  0,  0, 16,  0]])"
      ]
     },
     "execution_count": 32,
     "metadata": {},
     "output_type": "execute_result"
    }
   ],
   "source": [
    "np.kron(A,B)"
   ]
  },
  {
   "cell_type": "markdown",
   "metadata": {},
   "source": [
    "**Method 3: `np.einsum()`**"
   ]
  },
  {
   "cell_type": "code",
   "execution_count": 33,
   "metadata": {},
   "outputs": [
    {
     "name": "stdout",
     "output_type": "stream",
     "text": [
      "[[48 12 30 32  8 20 40 10 25]\n",
      " [24 18 24 16 12 16 20 15 20]\n",
      " [ 0 24  0  0 16  0  0 20  0]\n",
      " [64 16 40 48 12 30 32  8 20]\n",
      " [32 24 32 24 18 24 16 12 16]\n",
      " [ 0 32  0  0 24  0  0 16  0]\n",
      " [24  6 15 32  8 20 32  8 20]\n",
      " [12  9 12 16 12 16 16 12 16]\n",
      " [ 0 12  0  0 16  0  0 16  0]]\n"
     ]
    }
   ],
   "source": [
    "e = np.einsum('ij,kl->jikl',A,B)\n",
    "E = np.concatenate(np.concatenate(e, axis=2), axis=0)\n",
    "print(E)"
   ]
  },
  {
   "cell_type": "markdown",
   "metadata": {},
   "source": [
    "# Transformations on row and column vectors"
   ]
  },
  {
   "cell_type": "markdown",
   "metadata": {},
   "source": [
    "Numpy only has one type of one-dimensional array and so does not distinguish between row and column vectors. To distinguish, we represent a row vector as an `1 x N` 2D array and a column vector as a `N x 1` 2D array. By convention, column vectors are more widely used in physics.\n",
    "\n",
    "A row vector could be specified like this:"
   ]
  },
  {
   "cell_type": "code",
   "execution_count": 34,
   "metadata": {},
   "outputs": [
    {
     "data": {
      "text/plain": [
       "array([[0, 1, 2]])"
      ]
     },
     "execution_count": 34,
     "metadata": {},
     "output_type": "execute_result"
    }
   ],
   "source": [
    "np.array([[0,1,2]])"
   ]
  },
  {
   "cell_type": "markdown",
   "metadata": {},
   "source": [
    "... and a column vector could be specified like this:"
   ]
  },
  {
   "cell_type": "code",
   "execution_count": 35,
   "metadata": {},
   "outputs": [
    {
     "data": {
      "text/plain": [
       "array([[0],\n",
       "       [1],\n",
       "       [2]])"
      ]
     },
     "execution_count": 35,
     "metadata": {},
     "output_type": "execute_result"
    }
   ],
   "source": [
    "np.array([[0],[1],[2]])"
   ]
  },
  {
   "cell_type": "markdown",
   "metadata": {},
   "source": [
    "... but this is more easily typed like this, where `T` is an alias for the Numpy `transpose()` method:"
   ]
  },
  {
   "cell_type": "code",
   "execution_count": 36,
   "metadata": {},
   "outputs": [
    {
     "data": {
      "text/plain": [
       "array([[0],\n",
       "       [1],\n",
       "       [2]])"
      ]
     },
     "execution_count": 36,
     "metadata": {},
     "output_type": "execute_result"
    }
   ],
   "source": [
    "np.array([[0,1,2]]).T"
   ]
  },
  {
   "cell_type": "markdown",
   "metadata": {},
   "source": [
    "# Vectorised operations"
   ]
  },
  {
   "cell_type": "markdown",
   "metadata": {},
   "source": [
    "## Transform a 2D array of column vectors"
   ]
  },
  {
   "cell_type": "markdown",
   "metadata": {},
   "source": [
    "For a linear transformation matrix $A$ and an array of column vectors $v$, find the transformed vectors $u$:\n",
    "\n",
    "$$u=Av$$\n",
    "\n",
    "Create example arrays:"
   ]
  },
  {
   "cell_type": "code",
   "execution_count": 37,
   "metadata": {},
   "outputs": [
    {
     "name": "stdout",
     "output_type": "stream",
     "text": [
      "A = \n",
      "[[ 3  1  0]\n",
      " [ 1 -1  2]\n",
      " [ 2  3  1]]\n",
      "\n",
      "v = \n",
      "[[6 5 8 3 6]\n",
      " [5 4 2 2 7]\n",
      " [8 8 3 6 0]]\n",
      "\n"
     ]
    }
   ],
   "source": [
    "A = np.random.randint(-1,4,(3,3))\n",
    "v = np.random.randint(0,9,(3,5))\n",
    "\n",
    "print('A = \\n{}\\n'.format(A))\n",
    "print('v = \\n{}\\n'.format(v))"
   ]
  },
  {
   "cell_type": "markdown",
   "metadata": {},
   "source": [
    "In this case, Numpy's implicit broadcasting is sufficient to use both `np.dot()` and `np.matmul()`."
   ]
  },
  {
   "cell_type": "markdown",
   "metadata": {},
   "source": [
    "**Method 1: `np.dot()`**"
   ]
  },
  {
   "cell_type": "code",
   "execution_count": 38,
   "metadata": {
    "code_folding": []
   },
   "outputs": [
    {
     "data": {
      "text/plain": [
       "array([[23, 19, 26, 11, 25],\n",
       "       [17, 17, 12, 13, -1],\n",
       "       [35, 30, 25, 18, 33]])"
      ]
     },
     "execution_count": 38,
     "metadata": {},
     "output_type": "execute_result"
    }
   ],
   "source": [
    "np.dot(A,v)"
   ]
  },
  {
   "cell_type": "markdown",
   "metadata": {},
   "source": [
    "**Method 2: `np.einsum()`**"
   ]
  },
  {
   "cell_type": "code",
   "execution_count": 39,
   "metadata": {},
   "outputs": [
    {
     "data": {
      "text/plain": [
       "array([[23, 19, 26, 11, 25],\n",
       "       [17, 17, 12, 13, -1],\n",
       "       [35, 30, 25, 18, 33]])"
      ]
     },
     "execution_count": 39,
     "metadata": {},
     "output_type": "execute_result"
    }
   ],
   "source": [
    "np.einsum('ij,jk->ik',A,v)"
   ]
  },
  {
   "cell_type": "markdown",
   "metadata": {},
   "source": [
    "**Method 3: `np.matmul()` - `@`**"
   ]
  },
  {
   "cell_type": "code",
   "execution_count": 40,
   "metadata": {},
   "outputs": [
    {
     "data": {
      "text/plain": [
       "array([[23, 19, 26, 11, 25],\n",
       "       [17, 17, 12, 13, -1],\n",
       "       [35, 30, 25, 18, 33]])"
      ]
     },
     "execution_count": 40,
     "metadata": {},
     "output_type": "execute_result"
    }
   ],
   "source": [
    "A @ v"
   ]
  },
  {
   "cell_type": "markdown",
   "metadata": {
    "collapsed": true
   },
   "source": [
    "## Transform a 3D array of column vectors"
   ]
  },
  {
   "cell_type": "markdown",
   "metadata": {},
   "source": [
    "Creat example vectors array:"
   ]
  },
  {
   "cell_type": "code",
   "execution_count": 41,
   "metadata": {},
   "outputs": [
    {
     "name": "stdout",
     "output_type": "stream",
     "text": [
      "v = \n",
      "[[[7 8 5 4 5]\n",
      "  [5 4 8 0 2]\n",
      "  [3 5 4 1 0]]\n",
      "\n",
      " [[6 1 1 1 0]\n",
      "  [4 7 7 2 1]\n",
      "  [8 3 4 2 6]]]\n",
      "\n",
      "u_0 = \n",
      "[[26 28 23 12 17]\n",
      " [ 8 14  5  6  3]\n",
      " [32 33 38  9 16]]\n",
      "\n"
     ]
    }
   ],
   "source": [
    "v = np.random.randint(0,9,(2,3,5))\n",
    "print('v = \\n{}\\n'.format(v))\n",
    "\n",
    "# Let's get the first layer for checking other methods:\n",
    "u_0 = np.dot(A, v[0])\n",
    "print('u_0 = \\n{}\\n'.format(u_0))"
   ]
  },
  {
   "cell_type": "markdown",
   "metadata": {},
   "source": [
    "**Method 1: `np.dot()`**"
   ]
  },
  {
   "cell_type": "code",
   "execution_count": 42,
   "metadata": {},
   "outputs": [
    {
     "data": {
      "text/plain": [
       "array([[[26, 28, 23, 12, 17],\n",
       "        [ 8, 14,  5,  6,  3],\n",
       "        [32, 33, 38,  9, 16]],\n",
       "\n",
       "       [[22, 10, 10,  5,  1],\n",
       "        [18,  0,  2,  3, 11],\n",
       "        [32, 26, 27, 10,  9]]])"
      ]
     },
     "execution_count": 42,
     "metadata": {},
     "output_type": "execute_result"
    }
   ],
   "source": [
    "np.dot(A,v).swapaxes(0,1)"
   ]
  },
  {
   "cell_type": "markdown",
   "metadata": {},
   "source": [
    "For `np.dot()`, we have to swap axes to get the original shape."
   ]
  },
  {
   "cell_type": "markdown",
   "metadata": {},
   "source": [
    "**Method 2: `np.einsum()`**"
   ]
  },
  {
   "cell_type": "code",
   "execution_count": 43,
   "metadata": {},
   "outputs": [
    {
     "data": {
      "text/plain": [
       "array([[[26, 28, 23, 12, 17],\n",
       "        [ 8, 14,  5,  6,  3],\n",
       "        [32, 33, 38,  9, 16]],\n",
       "\n",
       "       [[22, 10, 10,  5,  1],\n",
       "        [18,  0,  2,  3, 11],\n",
       "        [32, 26, 27, 10,  9]]])"
      ]
     },
     "execution_count": 43,
     "metadata": {},
     "output_type": "execute_result"
    }
   ],
   "source": [
    "np.einsum('ij,kjl->kil', A, v)"
   ]
  },
  {
   "cell_type": "markdown",
   "metadata": {},
   "source": [
    "**Method 3: `np.matmul()` - `@`**"
   ]
  },
  {
   "cell_type": "code",
   "execution_count": 44,
   "metadata": {},
   "outputs": [
    {
     "data": {
      "text/plain": [
       "array([[[26, 28, 23, 12, 17],\n",
       "        [ 8, 14,  5,  6,  3],\n",
       "        [32, 33, 38,  9, 16]],\n",
       "\n",
       "       [[22, 10, 10,  5,  1],\n",
       "        [18,  0,  2,  3, 11],\n",
       "        [32, 26, 27, 10,  9]]])"
      ]
     },
     "execution_count": 44,
     "metadata": {},
     "output_type": "execute_result"
    }
   ],
   "source": [
    "A @ v"
   ]
  },
  {
   "cell_type": "markdown",
   "metadata": {},
   "source": [
    "`np.matmul()` and `np.einsum()` are clearly the cleaner solutions."
   ]
  },
  {
   "cell_type": "markdown",
   "metadata": {},
   "source": [
    "## Transform a 4D array of column vectors"
   ]
  },
  {
   "cell_type": "markdown",
   "metadata": {},
   "source": [
    "Creat example vectors array:"
   ]
  },
  {
   "cell_type": "code",
   "execution_count": 45,
   "metadata": {},
   "outputs": [
    {
     "name": "stdout",
     "output_type": "stream",
     "text": [
      "v = \n",
      "[[[[4 6 0 3 0]\n",
      "   [1 3 6 5 6]\n",
      "   [1 8 4 8 6]]\n",
      "\n",
      "  [[5 4 1 2 6]\n",
      "   [3 7 7 0 2]\n",
      "   [4 8 6 0 8]]]\n",
      "\n",
      "\n",
      " [[[5 5 0 8 6]\n",
      "   [0 1 1 8 1]\n",
      "   [5 5 0 6 8]]\n",
      "\n",
      "  [[6 2 2 2 1]\n",
      "   [3 0 3 1 0]\n",
      "   [5 2 7 1 7]]]]\n",
      "\n",
      "u_0 = \n",
      "[[13 21  6 14  6]\n",
      " [ 5 19  2 14  6]\n",
      " [12 29 22 29 24]]\n",
      "\n"
     ]
    }
   ],
   "source": [
    "v = np.random.randint(0,9,(2,2,3,5))\n",
    "print('v = \\n{}\\n'.format(v))\n",
    "\n",
    "# Let's get the first layer for checking other methods:\n",
    "u_0 = np.dot(A, v[0,0])\n",
    "print('u_0 = \\n{}\\n'.format(u_0))"
   ]
  },
  {
   "cell_type": "markdown",
   "metadata": {},
   "source": [
    "**Method 1: `np.dot()`**"
   ]
  },
  {
   "cell_type": "code",
   "execution_count": 46,
   "metadata": {},
   "outputs": [
    {
     "data": {
      "text/plain": [
       "array([[[[13, 21,  6, 14,  6],\n",
       "         [ 5, 19,  2, 14,  6],\n",
       "         [12, 29, 22, 29, 24]],\n",
       "\n",
       "        [[15, 16,  1, 32, 19],\n",
       "         [15, 14, -1, 12, 21],\n",
       "         [15, 18,  3, 46, 23]]],\n",
       "\n",
       "\n",
       "       [[[18, 19, 10,  6, 20],\n",
       "         [10, 13,  6,  2, 20],\n",
       "         [23, 37, 29,  4, 26]],\n",
       "\n",
       "        [[21,  6,  9,  7,  3],\n",
       "         [13,  6, 13,  3, 15],\n",
       "         [26,  6, 20,  8,  9]]]])"
      ]
     },
     "execution_count": 46,
     "metadata": {},
     "output_type": "execute_result"
    }
   ],
   "source": [
    "np.dot(A,v).swapaxes(0,2)"
   ]
  },
  {
   "cell_type": "markdown",
   "metadata": {},
   "source": [
    "Again, for `np.dot()`, we have to swap axes to get the original shape."
   ]
  },
  {
   "cell_type": "markdown",
   "metadata": {},
   "source": [
    "**Method 2: `np.einsum()`**"
   ]
  },
  {
   "cell_type": "code",
   "execution_count": 47,
   "metadata": {},
   "outputs": [
    {
     "data": {
      "text/plain": [
       "array([[[[13, 21,  6, 14,  6],\n",
       "         [ 5, 19,  2, 14,  6],\n",
       "         [12, 29, 22, 29, 24]],\n",
       "\n",
       "        [[18, 19, 10,  6, 20],\n",
       "         [10, 13,  6,  2, 20],\n",
       "         [23, 37, 29,  4, 26]]],\n",
       "\n",
       "\n",
       "       [[[15, 16,  1, 32, 19],\n",
       "         [15, 14, -1, 12, 21],\n",
       "         [15, 18,  3, 46, 23]],\n",
       "\n",
       "        [[21,  6,  9,  7,  3],\n",
       "         [13,  6, 13,  3, 15],\n",
       "         [26,  6, 20,  8,  9]]]])"
      ]
     },
     "execution_count": 47,
     "metadata": {},
     "output_type": "execute_result"
    }
   ],
   "source": [
    "np.einsum('ij,kljm->klim', A, v)"
   ]
  },
  {
   "cell_type": "markdown",
   "metadata": {},
   "source": [
    "**Method 3: `np.matmul()` - `@`**"
   ]
  },
  {
   "cell_type": "code",
   "execution_count": 48,
   "metadata": {},
   "outputs": [
    {
     "data": {
      "text/plain": [
       "array([[[[13, 21,  6, 14,  6],\n",
       "         [ 5, 19,  2, 14,  6],\n",
       "         [12, 29, 22, 29, 24]],\n",
       "\n",
       "        [[18, 19, 10,  6, 20],\n",
       "         [10, 13,  6,  2, 20],\n",
       "         [23, 37, 29,  4, 26]]],\n",
       "\n",
       "\n",
       "       [[[15, 16,  1, 32, 19],\n",
       "         [15, 14, -1, 12, 21],\n",
       "         [15, 18,  3, 46, 23]],\n",
       "\n",
       "        [[21,  6,  9,  7,  3],\n",
       "         [13,  6, 13,  3, 15],\n",
       "         [26,  6, 20,  8,  9]]]])"
      ]
     },
     "execution_count": 48,
     "metadata": {},
     "output_type": "execute_result"
    }
   ],
   "source": [
    "A @ v"
   ]
  },
  {
   "cell_type": "markdown",
   "metadata": {},
   "source": [
    "Again, `np.matmul()` and `np.einsum()` are the best solutions. Where possible, `np.matmul()` is preferable since the syntax is so simple for this situation. From the `np.matmul()` docs: \n",
    "\n",
    "> If either argument is N-D, N > 2, it is treated as a stack of matrices residing in the last two indexes and broadcast accordingly."
   ]
  },
  {
   "cell_type": "code",
   "execution_count": 49,
   "metadata": {},
   "outputs": [
    {
     "data": {
      "text/plain": [
       "'1.15.4'"
      ]
     },
     "execution_count": 49,
     "metadata": {},
     "output_type": "execute_result"
    }
   ],
   "source": [
    "np.version.version"
   ]
  },
  {
   "cell_type": "markdown",
   "metadata": {},
   "source": [
    "## Broadcasting the cross product (2D)"
   ]
  },
  {
   "cell_type": "markdown",
   "metadata": {},
   "source": [
    "Create example arrays:"
   ]
  },
  {
   "cell_type": "code",
   "execution_count": 50,
   "metadata": {},
   "outputs": [
    {
     "name": "stdout",
     "output_type": "stream",
     "text": [
      "a = \n",
      "[[-3]\n",
      " [ 2]\n",
      " [-1]]\n",
      "\n",
      "B = \n",
      "[[ 0  3 -4 -3  3]\n",
      " [-2 -3  2  0  1]\n",
      " [-4  1 -4  0 -4]]\n",
      "\n",
      "c = \n",
      "[[-10]\n",
      " [-12]\n",
      " [  6]]\n",
      "\n"
     ]
    }
   ],
   "source": [
    "a = np.random.randint(-4,4,(3,1))\n",
    "B = np.random.randint(-4,4,(3,5))\n",
    "\n",
    "print('a = \\n{}\\n'.format(a))\n",
    "print('B = \\n{}\\n'.format(B))\n",
    "\n",
    "# Let's find the cross product of the first vector so we can check subsequent operations:\n",
    "c = np.cross(a, B[:,0], axis=0)\n",
    "print('c = \\n{}\\n'.format(c))"
   ]
  },
  {
   "cell_type": "code",
   "execution_count": 51,
   "metadata": {},
   "outputs": [
    {
     "data": {
      "text/plain": [
       "array([[-10,  -1,  -6,   0,  -7],\n",
       "       [-12,   0,  -8,   3, -15],\n",
       "       [  6,   3,   2,   6,  -9]])"
      ]
     },
     "execution_count": 51,
     "metadata": {},
     "output_type": "execute_result"
    }
   ],
   "source": [
    "np.cross(a, B, axis=0)"
   ]
  },
  {
   "cell_type": "code",
   "execution_count": 52,
   "metadata": {},
   "outputs": [
    {
     "data": {
      "text/plain": [
       "array([[10,  1,  6,  0,  7],\n",
       "       [12,  0,  8, -3, 15],\n",
       "       [-6, -3, -2, -6,  9]])"
      ]
     },
     "execution_count": 52,
     "metadata": {},
     "output_type": "execute_result"
    }
   ],
   "source": [
    "np.cross(B, a, axis=0)"
   ]
  },
  {
   "cell_type": "markdown",
   "metadata": {},
   "source": [
    "## Broadcasting the cross product (3D)"
   ]
  },
  {
   "cell_type": "markdown",
   "metadata": {},
   "source": [
    "Create example arrays:"
   ]
  },
  {
   "cell_type": "code",
   "execution_count": 53,
   "metadata": {},
   "outputs": [
    {
     "name": "stdout",
     "output_type": "stream",
     "text": [
      "a = \n",
      "[[ 3]\n",
      " [ 3]\n",
      " [-1]]\n",
      "\n",
      "B = \n",
      "[[[-2 -1  0  0  2]\n",
      "  [-4 -1 -4  2  1]\n",
      "  [ 3 -1  3 -3  2]]\n",
      "\n",
      " [[ 0  0 -3 -4 -4]\n",
      "  [-3  2 -2 -2 -1]\n",
      "  [-3  2 -3 -4 -4]]]\n",
      "\n",
      "c = \n",
      "[[ 5]\n",
      " [-7]\n",
      " [-6]]\n",
      "\n"
     ]
    }
   ],
   "source": [
    "a = np.random.randint(-4,4,(3,1))\n",
    "B = np.random.randint(-4,4,(2,3,5))\n",
    "\n",
    "print('a = \\n{}\\n'.format(a))\n",
    "print('B = \\n{}\\n'.format(B))\n",
    "\n",
    "# Let's find the cross product of the first vector so we can check subsequent operations:\n",
    "c = np.cross(a, B[0,:,0], axis=0)\n",
    "print('c = \\n{}\\n'.format(c))"
   ]
  },
  {
   "cell_type": "markdown",
   "metadata": {},
   "source": [
    "To broadcast correctly, we need to specify the axes for both input and output arrays:"
   ]
  },
  {
   "cell_type": "code",
   "execution_count": 54,
   "metadata": {},
   "outputs": [
    {
     "data": {
      "text/plain": [
       "array([[[  5,  -4,   5,  -7,   7],\n",
       "        [ -7,   4,  -9,   9,  -8],\n",
       "        [ -6,   0, -12,   6,  -3]],\n",
       "\n",
       "       [[-12,   8, -11, -14, -13],\n",
       "        [  9,  -6,  12,  16,  16],\n",
       "        [ -9,   6,   3,   6,   9]]])"
      ]
     },
     "execution_count": 54,
     "metadata": {},
     "output_type": "execute_result"
    }
   ],
   "source": [
    "np.cross(a, B, axisa=0, axisb=1, axisc=1)"
   ]
  },
  {
   "cell_type": "code",
   "execution_count": 55,
   "metadata": {},
   "outputs": [
    {
     "data": {
      "text/plain": [
       "array([[[ -5,   4,  -5,   7,  -7],\n",
       "        [  7,  -4,   9,  -9,   8],\n",
       "        [  6,   0,  12,  -6,   3]],\n",
       "\n",
       "       [[ 12,  -8,  11,  14,  13],\n",
       "        [ -9,   6, -12, -16, -16],\n",
       "        [  9,  -6,  -3,  -6,  -9]]])"
      ]
     },
     "execution_count": 55,
     "metadata": {},
     "output_type": "execute_result"
    }
   ],
   "source": [
    "np.cross(B, a, axisa=1, axisb=0, axisc=1)"
   ]
  },
  {
   "cell_type": "markdown",
   "metadata": {},
   "source": [
    "Alternatively, we can fist ensure `a` and `B` have the same dimension. Then broadcasting will be correct without specifying different axes for input and output arrays:"
   ]
  },
  {
   "cell_type": "code",
   "execution_count": 56,
   "metadata": {},
   "outputs": [
    {
     "name": "stdout",
     "output_type": "stream",
     "text": [
      "a_1 = \n",
      "[[[ 3]\n",
      "  [ 3]\n",
      "  [-1]]]\n",
      "\n"
     ]
    }
   ],
   "source": [
    "a_1 = a[np.newaxis]\n",
    "print('a_1 = \\n{}\\n'.format(a_1))"
   ]
  },
  {
   "cell_type": "code",
   "execution_count": 57,
   "metadata": {},
   "outputs": [
    {
     "data": {
      "text/plain": [
       "array([[[  5,  -4,   5,  -7,   7],\n",
       "        [ -7,   4,  -9,   9,  -8],\n",
       "        [ -6,   0, -12,   6,  -3]],\n",
       "\n",
       "       [[-12,   8, -11, -14, -13],\n",
       "        [  9,  -6,  12,  16,  16],\n",
       "        [ -9,   6,   3,   6,   9]]])"
      ]
     },
     "execution_count": 57,
     "metadata": {},
     "output_type": "execute_result"
    }
   ],
   "source": [
    "np.cross(a_1, B, axis=1)"
   ]
  },
  {
   "cell_type": "markdown",
   "metadata": {},
   "source": [
    "## Column-wise dot product (2D)"
   ]
  },
  {
   "cell_type": "markdown",
   "metadata": {},
   "source": [
    "Given two 2D arrays of column vectors of identical shape, find the dot product of each column of the first array with its correpsonding column in the second array.\n",
    "\n",
    "Create example arrays:"
   ]
  },
  {
   "cell_type": "code",
   "execution_count": 58,
   "metadata": {},
   "outputs": [
    {
     "name": "stdout",
     "output_type": "stream",
     "text": [
      "v1 = \n",
      "[[ 2  0  1  2  3]\n",
      " [ 2 -1  2 -2  3]\n",
      " [ 0  0  3 -1 -1]]\n",
      "\n",
      "v2 = \n",
      "[[ 3  0 -1  2 -1]\n",
      " [ 0  1 -1 -1  2]\n",
      " [ 1  1  3  1  2]]\n",
      "\n"
     ]
    }
   ],
   "source": [
    "v1 = np.random.randint(-2,4,(3,5))\n",
    "v2 = np.random.randint(-2,4,(3,5))\n",
    "\n",
    "print('v1 = \\n{}\\n'.format(v1))\n",
    "print('v2 = \\n{}\\n'.format(v2))"
   ]
  },
  {
   "cell_type": "markdown",
   "metadata": {},
   "source": [
    "**Method 1: `*` and `np.sum()`**"
   ]
  },
  {
   "cell_type": "code",
   "execution_count": 59,
   "metadata": {},
   "outputs": [
    {
     "data": {
      "text/plain": [
       "array([ 6, -1,  6,  5,  1])"
      ]
     },
     "execution_count": 59,
     "metadata": {},
     "output_type": "execute_result"
    }
   ],
   "source": [
    "np.sum(v1 * v2, axis=0)"
   ]
  },
  {
   "cell_type": "markdown",
   "metadata": {},
   "source": [
    "**Method 2: `np.einsum()`**"
   ]
  },
  {
   "cell_type": "code",
   "execution_count": 60,
   "metadata": {},
   "outputs": [
    {
     "data": {
      "text/plain": [
       "array([ 6, -1,  6,  5,  1])"
      ]
     },
     "execution_count": 60,
     "metadata": {},
     "output_type": "execute_result"
    }
   ],
   "source": [
    "np.einsum('ij,ij->j',v1,v2)"
   ]
  },
  {
   "cell_type": "markdown",
   "metadata": {},
   "source": [
    "## Column-wise dot product (3D)"
   ]
  },
  {
   "cell_type": "markdown",
   "metadata": {},
   "source": [
    "Given two 3D arrays of column vectors of identical shape, find the dot product of each column of the first array with its correpsonding column in the second array.\n",
    "\n",
    "Create example arrays:"
   ]
  },
  {
   "cell_type": "code",
   "execution_count": 61,
   "metadata": {},
   "outputs": [
    {
     "name": "stdout",
     "output_type": "stream",
     "text": [
      "v1 = \n",
      "[[[ 3  3  3 -1  1]\n",
      "  [ 3  3  2 -2  1]\n",
      "  [ 3  3  1  2 -2]]\n",
      "\n",
      " [[-1  1 -2  3 -2]\n",
      "  [ 2 -2  0 -2 -2]\n",
      "  [ 0  3  1  0 -1]]]\n",
      "\n",
      "v2 = \n",
      "[[[-2 -1 -1  3  2]\n",
      "  [ 1  1 -1  0  2]\n",
      "  [ 3  2 -1  3  2]]\n",
      "\n",
      " [[ 1  1  0  3  3]\n",
      "  [ 3  1  2  1 -1]\n",
      "  [ 2 -1  2 -1  1]]]\n",
      "\n"
     ]
    }
   ],
   "source": [
    "v1 = np.random.randint(-2,4,(2,3,5))\n",
    "v2 = np.random.randint(-2,4,(2,3,5))\n",
    "\n",
    "print('v1 = \\n{}\\n'.format(v1))\n",
    "print('v2 = \\n{}\\n'.format(v2))"
   ]
  },
  {
   "cell_type": "markdown",
   "metadata": {},
   "source": [
    "**Method 1: `*` and `np.sum()`**"
   ]
  },
  {
   "cell_type": "code",
   "execution_count": 62,
   "metadata": {},
   "outputs": [
    {
     "data": {
      "text/plain": [
       "array([[ 6,  6, -6,  3,  0],\n",
       "       [ 5, -4,  2,  7, -5]])"
      ]
     },
     "execution_count": 62,
     "metadata": {},
     "output_type": "execute_result"
    }
   ],
   "source": [
    "np.sum(v1 * v2, axis=1)"
   ]
  },
  {
   "cell_type": "markdown",
   "metadata": {},
   "source": [
    "**Method 2: `np.einsum()`**"
   ]
  },
  {
   "cell_type": "code",
   "execution_count": 63,
   "metadata": {},
   "outputs": [
    {
     "data": {
      "text/plain": [
       "array([[ 6,  6, -6,  3,  0],\n",
       "       [ 5, -4,  2,  7, -5]])"
      ]
     },
     "execution_count": 63,
     "metadata": {},
     "output_type": "execute_result"
    }
   ],
   "source": [
    "np.einsum('ijk,ijk->ik',v1,v2)"
   ]
  },
  {
   "cell_type": "markdown",
   "metadata": {},
   "source": [
    "## Column-wise cross product (2D)"
   ]
  },
  {
   "cell_type": "markdown",
   "metadata": {},
   "source": [
    "Create example arrays:"
   ]
  },
  {
   "cell_type": "code",
   "execution_count": 64,
   "metadata": {},
   "outputs": [
    {
     "name": "stdout",
     "output_type": "stream",
     "text": [
      "A = \n",
      "[[-3  1 -4 -2  0]\n",
      " [ 3 -3  0 -1  2]\n",
      " [-2  3 -2 -2 -4]]\n",
      "\n",
      "B = \n",
      "[[ 2 -4  3  1  3]\n",
      " [-1 -1  2  2 -3]\n",
      " [-1 -3 -2  0 -1]]\n",
      "\n",
      "c = \n",
      "[[-5]\n",
      " [-7]\n",
      " [-3]]\n",
      "\n"
     ]
    }
   ],
   "source": [
    "A = np.random.randint(-4,4,(3,5))\n",
    "B = np.random.randint(-4,4,(3,5))\n",
    "\n",
    "print('A = \\n{}\\n'.format(A))\n",
    "print('B = \\n{}\\n'.format(B))\n",
    "\n",
    "# Let's find the cross product of the first vector so we can check subsequent operations:\n",
    "c = np.cross(A[:,0:1], B[:,0:1], axis=0)\n",
    "print('c = \\n{}\\n'.format(c))"
   ]
  },
  {
   "cell_type": "code",
   "execution_count": 65,
   "metadata": {},
   "outputs": [
    {
     "data": {
      "text/plain": [
       "array([[ -5,  12,   4,   4, -14],\n",
       "       [ -7,  -9, -14,  -2, -12],\n",
       "       [ -3, -13,  -8,  -3,  -6]])"
      ]
     },
     "execution_count": 65,
     "metadata": {},
     "output_type": "execute_result"
    }
   ],
   "source": [
    "np.cross(A, B, axis=0)"
   ]
  },
  {
   "cell_type": "markdown",
   "metadata": {},
   "source": [
    "## Column-wise cross product (3D)"
   ]
  },
  {
   "cell_type": "markdown",
   "metadata": {},
   "source": [
    "Create example arrays:"
   ]
  },
  {
   "cell_type": "code",
   "execution_count": 66,
   "metadata": {},
   "outputs": [
    {
     "name": "stdout",
     "output_type": "stream",
     "text": [
      "A = \n",
      "[[[ 1  0  0 -2 -1]\n",
      "  [-2 -4  0 -4  1]\n",
      "  [-3  0 -4 -2 -4]]\n",
      "\n",
      " [[-1  0  3  2  1]\n",
      "  [-1  0  0 -3  0]\n",
      "  [-2  2 -1 -2  1]]]\n",
      "\n",
      "B = \n",
      "[[[-4 -1  0  1  3]\n",
      "  [-2  3 -1  2 -4]\n",
      "  [ 2 -3  3 -3  2]]\n",
      "\n",
      " [[-2 -2 -3  1 -4]\n",
      "  [ 2 -2  0  3  0]\n",
      "  [-2  1 -1 -1  1]]]\n",
      "\n",
      "c = \n",
      "[[-10]\n",
      " [ 10]\n",
      " [-10]]\n",
      "\n"
     ]
    }
   ],
   "source": [
    "A = np.random.randint(-4,4,(2,3,5))\n",
    "B = np.random.randint(-4,4,(2,3,5))\n",
    "\n",
    "print('A = \\n{}\\n'.format(A))\n",
    "print('B = \\n{}\\n'.format(B))\n",
    "\n",
    "# Let's find the cross product of the first vector so we can check subsequent operations:\n",
    "c = np.cross(A[0,:,0:1], B[0,:,0:1], axis=0)\n",
    "print('c = \\n{}\\n'.format(c))"
   ]
  },
  {
   "cell_type": "code",
   "execution_count": 67,
   "metadata": {},
   "outputs": [
    {
     "data": {
      "text/plain": [
       "array([[[-10,  12,  -4,  16, -14],\n",
       "        [ 10,   0,   0,  -8, -10],\n",
       "        [-10,  -4,   0,   0,   1]],\n",
       "\n",
       "       [[  6,   4,   0,   9,   0],\n",
       "        [  2,  -4,   6,   0,  -5],\n",
       "        [ -4,   0,   0,   9,   0]]])"
      ]
     },
     "execution_count": 67,
     "metadata": {},
     "output_type": "execute_result"
    }
   ],
   "source": [
    "np.cross(A, B, axis=1)"
   ]
  },
  {
   "cell_type": "markdown",
   "metadata": {},
   "source": [
    "## Column pair dot product"
   ]
  },
  {
   "cell_type": "markdown",
   "metadata": {},
   "source": [
    "Given a single array of shape `N x m x 2`, return a 1D array of length `N` whose elements are the dot products between length `m` column vector pairs.\n",
    "\n",
    "Create example arrays:"
   ]
  },
  {
   "cell_type": "code",
   "execution_count": 68,
   "metadata": {},
   "outputs": [
    {
     "name": "stdout",
     "output_type": "stream",
     "text": [
      "p1 = \n",
      "[[[ 3  0]\n",
      "  [-2  1]\n",
      "  [ 1 -2]]\n",
      "\n",
      " [[ 1  2]\n",
      "  [-2  1]\n",
      "  [ 3 -1]]\n",
      "\n",
      " [[ 3 -2]\n",
      "  [ 3  2]\n",
      "  [ 1  1]]\n",
      "\n",
      " [[ 1  1]\n",
      "  [-2 -2]\n",
      "  [ 3  2]]\n",
      "\n",
      " [[ 2 -2]\n",
      "  [-2  1]\n",
      "  [-2  2]]]\n",
      "\n"
     ]
    }
   ],
   "source": [
    "p1 = np.random.randint(-2,4,(5,3,2))\n",
    "print('p1 = \\n{}\\n'.format(p1))"
   ]
  },
  {
   "cell_type": "markdown",
   "metadata": {},
   "source": [
    "**Method 1: `*` and `np.sum()`**"
   ]
  },
  {
   "cell_type": "code",
   "execution_count": 69,
   "metadata": {},
   "outputs": [
    {
     "data": {
      "text/plain": [
       "array([ -4,  -3,   1,  11, -10])"
      ]
     },
     "execution_count": 69,
     "metadata": {},
     "output_type": "execute_result"
    }
   ],
   "source": [
    "np.sum(p1[:,:,0] * p1[:,:,1], axis=1)"
   ]
  },
  {
   "cell_type": "markdown",
   "metadata": {},
   "source": [
    "**Method 2: `np.einsum()`**"
   ]
  },
  {
   "cell_type": "code",
   "execution_count": 70,
   "metadata": {},
   "outputs": [
    {
     "data": {
      "text/plain": [
       "array([ -4,  -3,   1,  11, -10])"
      ]
     },
     "execution_count": 70,
     "metadata": {},
     "output_type": "execute_result"
    }
   ],
   "source": [
    "np.einsum('ij,ij->i',p1[:,:,0],p1[:,:,1])"
   ]
  },
  {
   "cell_type": "markdown",
   "metadata": {},
   "source": [
    "It probably makes more sense to keep this sort of data in an array of shape `2 x m x N` instead:"
   ]
  },
  {
   "cell_type": "code",
   "execution_count": 71,
   "metadata": {},
   "outputs": [
    {
     "name": "stdout",
     "output_type": "stream",
     "text": [
      "p2 = \n",
      "[[[ 2  3 -1  1  3]\n",
      "  [ 3 -2 -1  0  2]\n",
      "  [-2  3  3  3  2]]\n",
      "\n",
      " [[ 0  2  2  2 -2]\n",
      "  [-2  1 -1 -2  2]\n",
      "  [ 0 -1  3 -1  0]]]\n",
      "\n"
     ]
    }
   ],
   "source": [
    "p2 = np.random.randint(-2,4,(2,3,5))\n",
    "print('p2 = \\n{}\\n'.format(p2))"
   ]
  },
  {
   "cell_type": "code",
   "execution_count": 72,
   "metadata": {},
   "outputs": [
    {
     "data": {
      "text/plain": [
       "array([-6,  1,  8, -1, -2])"
      ]
     },
     "execution_count": 72,
     "metadata": {},
     "output_type": "execute_result"
    }
   ],
   "source": [
    "np.sum(p2[0] * p2[1], axis=0)"
   ]
  },
  {
   "cell_type": "code",
   "execution_count": 73,
   "metadata": {},
   "outputs": [
    {
     "data": {
      "text/plain": [
       "array([-6,  1,  8, -1, -2])"
      ]
     },
     "execution_count": 73,
     "metadata": {},
     "output_type": "execute_result"
    }
   ],
   "source": [
    "np.einsum('ij,ij->j',p2[0],p2[1])"
   ]
  }
 ],
 "metadata": {
  "anaconda-cloud": {},
  "hide_input": false,
  "kernelspec": {
   "display_name": "Python 3",
   "language": "python",
   "name": "python3"
  },
  "language_info": {
   "codemirror_mode": {
    "name": "ipython",
    "version": 3
   },
   "file_extension": ".py",
   "mimetype": "text/x-python",
   "name": "python",
   "nbconvert_exporter": "python",
   "pygments_lexer": "ipython3",
   "version": "3.7.1"
  },
  "toc": {
   "base_numbering": 1,
   "nav_menu": {},
   "number_sections": true,
   "sideBar": true,
   "skip_h1_title": false,
   "title_cell": "Table of Contents",
   "title_sidebar": "Contents",
   "toc_cell": false,
   "toc_position": {
    "height": "814px",
    "left": "0px",
    "right": "1382px",
    "top": "106px",
    "width": "298px"
   },
   "toc_section_display": "block",
   "toc_window_display": true
  },
  "toc_position": {
   "height": "943px",
   "left": "0px",
   "right": "auto",
   "top": "107px",
   "width": "314px"
  }
 },
 "nbformat": 4,
 "nbformat_minor": 1
}
